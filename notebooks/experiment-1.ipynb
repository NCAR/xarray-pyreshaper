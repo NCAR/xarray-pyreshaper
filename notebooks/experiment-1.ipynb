{
 "cells": [
  {
   "cell_type": "markdown",
   "metadata": {},
   "source": [
    "## Goal\n",
    "- To demonstrate [PyReshaper](https://github.com/NCAR/PyReshaper)-like operation with xarray."
   ]
  },
  {
   "cell_type": "markdown",
   "metadata": {},
   "source": [
    "## Model\n",
    "\n",
    "The [PyReshaper](https://github.com/NCAR/PyReshaper) converts multiple files that are in time-slice format (i.e., synoptic format) into files that are in time-series format.  \n",
    "\n",
    "A **“time-slice”** is a file with multiple time-dependent variables in it, but only 1 (or a few) time steps.  That is, there will be a “time” coordinate variable in the file with length 1 (or a small number), and multiple variables in the file that depend upon the “time” dimension.  There may also be variables in the file that do not depend upon “time” at all!\n",
    "\n",
    "\n",
    "To demonstrate this, we will generate some fake \"time-slice\" data that meets the above requirements."
   ]
  },
  {
   "cell_type": "markdown",
   "metadata": {},
   "source": [
    "## Import Packages"
   ]
  },
  {
   "cell_type": "code",
   "execution_count": 1,
   "metadata": {},
   "outputs": [],
   "source": [
    "import xarray as xr\n",
    "from dask.distributed import Client\n",
    "import numpy as np \n",
    "import pandas as pd\n",
    "import os"
   ]
  },
  {
   "cell_type": "code",
   "execution_count": 2,
   "metadata": {},
   "outputs": [
    {
     "data": {
      "text/html": [
       "<table style=\"border: 2px solid white;\">\n",
       "<tr>\n",
       "<td style=\"vertical-align: top; border: 0px solid white\">\n",
       "<h3>Client</h3>\n",
       "<ul>\n",
       "  <li><b>Scheduler: </b>inproc://128.117.11.17/27673/1\n",
       "  <li><b>Dashboard: </b><a href='http://localhost:8787/status' target='_blank'>http://localhost:8787/status</a>\n",
       "</ul>\n",
       "</td>\n",
       "<td style=\"vertical-align: top; border: 0px solid white\">\n",
       "<h3>Cluster</h3>\n",
       "<ul>\n",
       "  <li><b>Workers: </b>1</li>\n",
       "  <li><b>Cores: </b>8</li>\n",
       "  <li><b>Memory: </b>17.18 GB</li>\n",
       "</ul>\n",
       "</td>\n",
       "</tr>\n",
       "</table>"
      ],
      "text/plain": [
       "<Client: scheduler='inproc://128.117.11.17/27673/1' processes=1 cores=8>"
      ]
     },
     "execution_count": 2,
     "metadata": {},
     "output_type": "execute_result"
    }
   ],
   "source": [
    "client = Client(processes=False)\n",
    "client"
   ]
  },
  {
   "cell_type": "markdown",
   "metadata": {},
   "source": [
    "## Generate Fake Data"
   ]
  },
  {
   "cell_type": "code",
   "execution_count": 3,
   "metadata": {},
   "outputs": [],
   "source": [
    "# Create directory to save time slices data in\n",
    "os.makedirs('data/timeslices', exist_ok=True)"
   ]
  },
  {
   "cell_type": "code",
   "execution_count": 4,
   "metadata": {},
   "outputs": [],
   "source": [
    "def create_data_array(time, lat, lon, name):\n",
    "    \"\"\"Generate some random xarray dataarray\"\"\"\n",
    "    data_array = xr.DataArray(np.random.randn(len([time]), len(lat), len(lon)), \n",
    "                      coords={'time': [time], 'lat': lat, 'lon': lon},\n",
    "                      dims=('time', 'lat', 'lon'),\n",
    "                      name=name)\n",
    "    return data_array \n",
    "\n",
    "def generate_fake_data(time, suffix):\n",
    "    \"\"\"Create xarray 'time-slice' dataset and save it to disk\"\"\"\n",
    "    # generate latitude and longitude values \n",
    "    lat = np.linspace(start=-90, stop=90, num=180, dtype='int')\n",
    "    lon = np.linspace(start=-180, stop=180, num=360, dtype='int')\n",
    "    \n",
    "    # Create some variables \n",
    "    sst = create_data_array(time, lat, lon, name='sst')\n",
    "    prec = create_data_array(time, lat, lon, name='prec')\n",
    "    pressure = create_data_array(time, lat, lon, name='pressure')\n",
    "    \n",
    "    # Create some meta data variables. These variables are the same for all time slices\n",
    "    meta = xr.DataArray(np.arange(len(lat)*len(lon)).reshape(len(lat), len(lon)), \n",
    "                        coords={'lat': lat, 'lon': lon}, \n",
    "                        dims=('lat', 'lon'),\n",
    "                        name='meta_var')\n",
    "    nlat = xr.DataArray(lat/2, coords={'lat': lat}, dims=('lat'))\n",
    "    nlon = xr.DataArray(lon/2, coords={'lon': lon}, dims=('lon'))\n",
    "    dset = xr.Dataset({'sst': sst, 'pressure': pressure, 'prec': prec, 'meta_var': meta, 'nlat': nlat, 'nlon': nlon})\n",
    "    \n",
    "    # Add some global attributes to our dataset \n",
    "    dset.attrs['created on'] = '2010-10-10'\n",
    "    dset.attrs['created by'] = 'foo'\n",
    "    dset.attrs['experiment_name'] = 'bar'\n",
    "    path = f'data/timeslices/tslice{str(suffix)}.nc'\n",
    "    dset.to_netcdf(path, engine='netcdf4', mode='w')"
   ]
  },
  {
   "cell_type": "code",
   "execution_count": 5,
   "metadata": {},
   "outputs": [],
   "source": [
    "def generate_data(start_date='2000-01-01', freq='1M', periods=24):\n",
    "    times = pd.DatetimeIndex(start=start_date, freq=freq, periods=periods)\n",
    "    \n",
    "    for index, time in enumerate(times):\n",
    "        generate_fake_data(time, index)"
   ]
  },
  {
   "cell_type": "code",
   "execution_count": 6,
   "metadata": {},
   "outputs": [
    {
     "name": "stdout",
     "output_type": "stream",
     "text": [
      "CPU times: user 576 ms, sys: 65.7 ms, total: 642 ms\n",
      "Wall time: 628 ms\n"
     ]
    }
   ],
   "source": [
    "%time generate_data()"
   ]
  },
  {
   "cell_type": "code",
   "execution_count": 7,
   "metadata": {},
   "outputs": [
    {
     "name": "stdout",
     "output_type": "stream",
     "text": [
      "netcdf tslice0 {\n",
      "dimensions:\n",
      "\ttime = 1 ;\n",
      "\tlat = 180 ;\n",
      "\tlon = 360 ;\n",
      "variables:\n",
      "\tint64 time(time) ;\n",
      "\t\ttime:units = \"days since 2000-01-31 00:00:00\" ;\n",
      "\t\ttime:calendar = \"proleptic_gregorian\" ;\n",
      "\tint64 lat(lat) ;\n",
      "\tint64 lon(lon) ;\n",
      "\tdouble sst(time, lat, lon) ;\n",
      "\t\tsst:_FillValue = NaN ;\n",
      "\tdouble pressure(time, lat, lon) ;\n",
      "\t\tpressure:_FillValue = NaN ;\n",
      "\tdouble prec(time, lat, lon) ;\n",
      "\t\tprec:_FillValue = NaN ;\n",
      "\tint64 meta_var(lat, lon) ;\n",
      "\tdouble nlat(lat) ;\n",
      "\t\tnlat:_FillValue = NaN ;\n",
      "\tdouble nlon(lon) ;\n",
      "\t\tnlon:_FillValue = NaN ;\n",
      "\n",
      "// global attributes:\n",
      "\t\t:created\\ on = \"2010-10-10\" ;\n",
      "\t\t:created\\ by = \"foo\" ;\n",
      "\t\t:experiment_name = \"bar\" ;\n",
      "}\n"
     ]
    }
   ],
   "source": [
    "!ncdump -h data/timeslices/tslice0.nc"
   ]
  },
  {
   "cell_type": "code",
   "execution_count": 8,
   "metadata": {},
   "outputs": [
    {
     "name": "stdout",
     "output_type": "stream",
     "text": [
      " 48M\tdata/timeslices/\n"
     ]
    }
   ],
   "source": [
    "!du -s -h data/timeslices/"
   ]
  },
  {
   "cell_type": "markdown",
   "metadata": {},
   "source": [
    "## From time-slice files to time-series files\n",
    "The PyReshaper converts these time-slice files into time-series files by creating a separate file for each time-series variable.  Inside each time-series file exists the “time” variable, the corresponding time-series variable, and all of the metadata variables.\n"
   ]
  },
  {
   "cell_type": "markdown",
   "metadata": {},
   "source": [
    "### Step 1: Open all time slices files with `xarray.open_mfdataset()`"
   ]
  },
  {
   "cell_type": "code",
   "execution_count": 9,
   "metadata": {},
   "outputs": [
    {
     "data": {
      "text/plain": [
       "<xarray.Dataset>\n",
       "Dimensions:   (lat: 180, lon: 360, time: 24)\n",
       "Coordinates:\n",
       "  * lat       (lat) int64 -90 -88 -87 -86 -85 -84 -83 ... 83 84 85 86 87 88 90\n",
       "  * lon       (lon) int64 -180 -178 -177 -176 -175 -174 ... 175 176 177 178 180\n",
       "  * time      (time) datetime64[ns] 2000-01-31 2000-02-29 ... 2000-10-31\n",
       "Data variables:\n",
       "    meta_var  (lat, lon) int64 0 1 2 3 4 5 ... 64795 64796 64797 64798 64799\n",
       "    nlat      (lat) float64 -45.0 -44.0 -43.5 -43.0 ... 43.0 43.5 44.0 45.0\n",
       "    nlon      (lon) float64 -90.0 -89.0 -88.5 -88.0 ... 88.0 88.5 89.0 90.0\n",
       "    sst       (time, lat, lon) float64 dask.array<shape=(24, 180, 360), chunksize=(1, 180, 360)>\n",
       "    pressure  (time, lat, lon) float64 dask.array<shape=(24, 180, 360), chunksize=(1, 180, 360)>\n",
       "    prec      (time, lat, lon) float64 dask.array<shape=(24, 180, 360), chunksize=(1, 180, 360)>\n",
       "Attributes:\n",
       "    created on:       2010-10-10\n",
       "    created by:       foo\n",
       "    experiment_name:  bar"
      ]
     },
     "execution_count": 9,
     "metadata": {},
     "output_type": "execute_result"
    }
   ],
   "source": [
    "dset = xr.open_mfdataset('data/timeslices/*.nc', data_vars='minimal')\n",
    "dset"
   ]
  },
  {
   "cell_type": "code",
   "execution_count": 10,
   "metadata": {},
   "outputs": [
    {
     "data": {
      "text/plain": [
       "<xarray.DataArray 'meta_var' (lat: 180, lon: 360)>\n",
       "array([[    0,     1,     2, ...,   357,   358,   359],\n",
       "       [  360,   361,   362, ...,   717,   718,   719],\n",
       "       [  720,   721,   722, ...,  1077,  1078,  1079],\n",
       "       ...,\n",
       "       [63720, 63721, 63722, ..., 64077, 64078, 64079],\n",
       "       [64080, 64081, 64082, ..., 64437, 64438, 64439],\n",
       "       [64440, 64441, 64442, ..., 64797, 64798, 64799]])\n",
       "Coordinates:\n",
       "  * lat      (lat) int64 -90 -88 -87 -86 -85 -84 -83 ... 83 84 85 86 87 88 90\n",
       "  * lon      (lon) int64 -180 -178 -177 -176 -175 -174 ... 175 176 177 178 180"
      ]
     },
     "execution_count": 10,
     "metadata": {},
     "output_type": "execute_result"
    }
   ],
   "source": [
    "dset.meta_var"
   ]
  },
  {
   "cell_type": "code",
   "execution_count": 11,
   "metadata": {},
   "outputs": [
    {
     "data": {
      "text/plain": [
       "<xarray.DataArray 'sst' (time: 24, lat: 180, lon: 360)>\n",
       "dask.array<shape=(24, 180, 360), dtype=float64, chunksize=(1, 180, 360)>\n",
       "Coordinates:\n",
       "  * lat      (lat) int64 -90 -88 -87 -86 -85 -84 -83 ... 83 84 85 86 87 88 90\n",
       "  * lon      (lon) int64 -180 -178 -177 -176 -175 -174 ... 175 176 177 178 180\n",
       "  * time     (time) datetime64[ns] 2000-01-31 2000-02-29 ... 2000-10-31"
      ]
     },
     "execution_count": 11,
     "metadata": {},
     "output_type": "execute_result"
    }
   ],
   "source": [
    "dset.sst"
   ]
  },
  {
   "cell_type": "code",
   "execution_count": 12,
   "metadata": {},
   "outputs": [
    {
     "data": {
      "text/plain": [
       "Data variables:\n",
       "    meta_var  (lat, lon) int64 0 1 2 3 4 5 ... 64795 64796 64797 64798 64799\n",
       "    nlat      (lat) float64 -45.0 -44.0 -43.5 -43.0 ... 43.0 43.5 44.0 45.0\n",
       "    nlon      (lon) float64 -90.0 -89.0 -88.5 -88.0 ... 88.0 88.5 89.0 90.0\n",
       "    sst       (time, lat, lon) float64 dask.array<shape=(24, 180, 360), chunksize=(1, 180, 360)>\n",
       "    pressure  (time, lat, lon) float64 dask.array<shape=(24, 180, 360), chunksize=(1, 180, 360)>\n",
       "    prec      (time, lat, lon) float64 dask.array<shape=(24, 180, 360), chunksize=(1, 180, 360)>"
      ]
     },
     "execution_count": 12,
     "metadata": {},
     "output_type": "execute_result"
    }
   ],
   "source": [
    "dset.data_vars"
   ]
  },
  {
   "cell_type": "code",
   "execution_count": 13,
   "metadata": {},
   "outputs": [
    {
     "data": {
      "text/plain": [
       "Frozen(SortedKeysDict({'lat': 180, 'lon': 360, 'time': 24}))"
      ]
     },
     "execution_count": 13,
     "metadata": {},
     "output_type": "execute_result"
    }
   ],
   "source": [
    "dset.dims"
   ]
  },
  {
   "cell_type": "code",
   "execution_count": 14,
   "metadata": {},
   "outputs": [
    {
     "data": {
      "text/plain": [
       "Coordinates:\n",
       "  * lat      (lat) int64 -90 -88 -87 -86 -85 -84 -83 ... 83 84 85 86 87 88 90\n",
       "  * lon      (lon) int64 -180 -178 -177 -176 -175 -174 ... 175 176 177 178 180\n",
       "  * time     (time) datetime64[ns] 2000-01-31 2000-02-29 ... 2000-10-31"
      ]
     },
     "execution_count": 14,
     "metadata": {},
     "output_type": "execute_result"
    }
   ],
   "source": [
    "dset.coords"
   ]
  },
  {
   "cell_type": "code",
   "execution_count": 15,
   "metadata": {},
   "outputs": [
    {
     "data": {
      "text/plain": [
       "OrderedDict([('created on', '2010-10-10'),\n",
       "             ('created by', 'foo'),\n",
       "             ('experiment_name', 'bar')])"
      ]
     },
     "execution_count": 15,
     "metadata": {},
     "output_type": "execute_result"
    }
   ],
   "source": [
    "dset.attrs"
   ]
  },
  {
   "cell_type": "markdown",
   "metadata": {},
   "source": [
    "### Step 2: Figure out which variables depend on time and which ones do not"
   ]
  },
  {
   "cell_type": "code",
   "execution_count": 16,
   "metadata": {},
   "outputs": [
    {
     "data": {
      "text/plain": [
       "KeysView(Data variables:\n",
       "    meta_var  (lat, lon) int64 0 1 2 3 4 5 ... 64795 64796 64797 64798 64799\n",
       "    nlat      (lat) float64 -45.0 -44.0 -43.5 -43.0 ... 43.0 43.5 44.0 45.0\n",
       "    nlon      (lon) float64 -90.0 -89.0 -88.5 -88.0 ... 88.0 88.5 89.0 90.0\n",
       "    sst       (time, lat, lon) float64 dask.array<shape=(24, 180, 360), chunksize=(1, 180, 360)>\n",
       "    pressure  (time, lat, lon) float64 dask.array<shape=(24, 180, 360), chunksize=(1, 180, 360)>\n",
       "    prec      (time, lat, lon) float64 dask.array<shape=(24, 180, 360), chunksize=(1, 180, 360)>)"
      ]
     },
     "execution_count": 16,
     "metadata": {},
     "output_type": "execute_result"
    }
   ],
   "source": [
    "all_variables = dset.data_vars.keys()\n",
    "all_variables"
   ]
  },
  {
   "cell_type": "code",
   "execution_count": 17,
   "metadata": {},
   "outputs": [],
   "source": [
    "tseries_vars = []\n",
    "metadata_vars = []\n",
    "\n",
    "for var in all_variables:\n",
    "    if 'time' in dset.data_vars[var].dims:\n",
    "        tseries_vars.append(var)\n",
    "    else:\n",
    "        metadata_vars.append(var)"
   ]
  },
  {
   "cell_type": "code",
   "execution_count": 18,
   "metadata": {},
   "outputs": [
    {
     "data": {
      "text/plain": [
       "['sst', 'pressure', 'prec']"
      ]
     },
     "execution_count": 18,
     "metadata": {},
     "output_type": "execute_result"
    }
   ],
   "source": [
    "tseries_vars"
   ]
  },
  {
   "cell_type": "code",
   "execution_count": 19,
   "metadata": {},
   "outputs": [
    {
     "data": {
      "text/plain": [
       "['meta_var', 'nlat', 'nlon']"
      ]
     },
     "execution_count": 19,
     "metadata": {},
     "output_type": "execute_result"
    }
   ],
   "source": [
    "metadata_vars"
   ]
  },
  {
   "cell_type": "markdown",
   "metadata": {},
   "source": [
    "### Step 3: Convert time-slice dataset into time-series dataset\n",
    "After figuring out which variables depend on time, we are able to do the conversion from time-slice to time-series. \n",
    "\n",
    "In the `create_time_series()` function below, we do the following:\n",
    "- create a list of time-series `datasets`. Each element in this list contains one time-series variable, with metadata variables, and corresponding dataset global attributes. \n",
    "- create a list of `paths` to which to save each corresponding dataset.\n",
    "\n",
    "This allows us to use `xarray.save_mfdataset()` function, which uses `dask` under the hood to write multiple datasets to disk as netCDF files simultaneously. "
   ]
  },
  {
   "cell_type": "code",
   "execution_count": 20,
   "metadata": {},
   "outputs": [],
   "source": [
    "def create_time_series(dset):\n",
    "    datasets = []\n",
    "    paths = []\n",
    "    \n",
    "    for vname in tseries_vars:\n",
    "        # Get the data corresponding to this time series variable dataset\n",
    "        var_dset = dset.data_vars[vname].to_dataset()\n",
    "        \n",
    "        # Add metadata variables to time series variable dataset\n",
    "        for mvar in metadata_vars:\n",
    "            var_dset[mvar] = dset.data_vars[mvar]\n",
    "            \n",
    "        # Add dataset global attributes to time series variable dataset\n",
    "        var_dset.attrs = dset.attrs\n",
    "        fpath = f'./data/timeseries/{vname}.nc'\n",
    "        datasets.append(var_dset)\n",
    "        paths.append(fpath)\n",
    "    return datasets, paths"
   ]
  },
  {
   "cell_type": "code",
   "execution_count": 21,
   "metadata": {},
   "outputs": [],
   "source": [
    "datasets, paths = create_time_series(dset)"
   ]
  },
  {
   "cell_type": "code",
   "execution_count": 22,
   "metadata": {},
   "outputs": [
    {
     "data": {
      "text/plain": [
       "[<xarray.Dataset>\n",
       " Dimensions:   (lat: 180, lon: 360, time: 24)\n",
       " Coordinates:\n",
       "   * lat       (lat) int64 -90 -88 -87 -86 -85 -84 -83 ... 83 84 85 86 87 88 90\n",
       "   * lon       (lon) int64 -180 -178 -177 -176 -175 -174 ... 175 176 177 178 180\n",
       "   * time      (time) datetime64[ns] 2000-01-31 2000-02-29 ... 2000-10-31\n",
       " Data variables:\n",
       "     sst       (time, lat, lon) float64 dask.array<shape=(24, 180, 360), chunksize=(1, 180, 360)>\n",
       "     meta_var  (lat, lon) int64 0 1 2 3 4 5 ... 64795 64796 64797 64798 64799\n",
       "     nlat      (lat) float64 -45.0 -44.0 -43.5 -43.0 ... 43.0 43.5 44.0 45.0\n",
       "     nlon      (lon) float64 -90.0 -89.0 -88.5 -88.0 ... 88.0 88.5 89.0 90.0\n",
       " Attributes:\n",
       "     created on:       2010-10-10\n",
       "     created by:       foo\n",
       "     experiment_name:  bar, <xarray.Dataset>\n",
       " Dimensions:   (lat: 180, lon: 360, time: 24)\n",
       " Coordinates:\n",
       "   * lat       (lat) int64 -90 -88 -87 -86 -85 -84 -83 ... 83 84 85 86 87 88 90\n",
       "   * lon       (lon) int64 -180 -178 -177 -176 -175 -174 ... 175 176 177 178 180\n",
       "   * time      (time) datetime64[ns] 2000-01-31 2000-02-29 ... 2000-10-31\n",
       " Data variables:\n",
       "     pressure  (time, lat, lon) float64 dask.array<shape=(24, 180, 360), chunksize=(1, 180, 360)>\n",
       "     meta_var  (lat, lon) int64 0 1 2 3 4 5 ... 64795 64796 64797 64798 64799\n",
       "     nlat      (lat) float64 -45.0 -44.0 -43.5 -43.0 ... 43.0 43.5 44.0 45.0\n",
       "     nlon      (lon) float64 -90.0 -89.0 -88.5 -88.0 ... 88.0 88.5 89.0 90.0\n",
       " Attributes:\n",
       "     created on:       2010-10-10\n",
       "     created by:       foo\n",
       "     experiment_name:  bar, <xarray.Dataset>\n",
       " Dimensions:   (lat: 180, lon: 360, time: 24)\n",
       " Coordinates:\n",
       "   * lat       (lat) int64 -90 -88 -87 -86 -85 -84 -83 ... 83 84 85 86 87 88 90\n",
       "   * lon       (lon) int64 -180 -178 -177 -176 -175 -174 ... 175 176 177 178 180\n",
       "   * time      (time) datetime64[ns] 2000-01-31 2000-02-29 ... 2000-10-31\n",
       " Data variables:\n",
       "     prec      (time, lat, lon) float64 dask.array<shape=(24, 180, 360), chunksize=(1, 180, 360)>\n",
       "     meta_var  (lat, lon) int64 0 1 2 3 4 5 ... 64795 64796 64797 64798 64799\n",
       "     nlat      (lat) float64 -45.0 -44.0 -43.5 -43.0 ... 43.0 43.5 44.0 45.0\n",
       "     nlon      (lon) float64 -90.0 -89.0 -88.5 -88.0 ... 88.0 88.5 89.0 90.0\n",
       " Attributes:\n",
       "     created on:       2010-10-10\n",
       "     created by:       foo\n",
       "     experiment_name:  bar]"
      ]
     },
     "execution_count": 22,
     "metadata": {},
     "output_type": "execute_result"
    }
   ],
   "source": [
    "datasets"
   ]
  },
  {
   "cell_type": "code",
   "execution_count": 23,
   "metadata": {},
   "outputs": [
    {
     "data": {
      "text/plain": [
       "['./data/timeseries/sst.nc',\n",
       " './data/timeseries/pressure.nc',\n",
       " './data/timeseries/prec.nc']"
      ]
     },
     "execution_count": 23,
     "metadata": {},
     "output_type": "execute_result"
    }
   ],
   "source": [
    "paths"
   ]
  },
  {
   "cell_type": "code",
   "execution_count": 24,
   "metadata": {},
   "outputs": [],
   "source": [
    "mkdir -p data/timeseries"
   ]
  },
  {
   "cell_type": "code",
   "execution_count": 25,
   "metadata": {},
   "outputs": [
    {
     "name": "stdout",
     "output_type": "stream",
     "text": [
      "CPU times: user 822 ms, sys: 135 ms, total: 958 ms\n",
      "Wall time: 916 ms\n"
     ]
    }
   ],
   "source": [
    "%time xr.save_mfdataset(datasets, paths, mode='w', engine='netcdf4')"
   ]
  },
  {
   "cell_type": "code",
   "execution_count": 26,
   "metadata": {},
   "outputs": [
    {
     "name": "stdout",
     "output_type": "stream",
     "text": [
      "netcdf pressure {\n",
      "dimensions:\n",
      "\tlat = 180 ;\n",
      "\tlon = 360 ;\n",
      "\ttime = 24 ;\n",
      "variables:\n",
      "\tint64 lat(lat) ;\n",
      "\tint64 lon(lon) ;\n",
      "\tint64 time(time) ;\n",
      "\t\ttime:units = \"days since 2000-01-31 00:00:00\" ;\n",
      "\t\ttime:calendar = \"proleptic_gregorian\" ;\n",
      "\tdouble pressure(time, lat, lon) ;\n",
      "\t\tpressure:_FillValue = NaN ;\n",
      "\tint64 meta_var(lat, lon) ;\n",
      "\tdouble nlat(lat) ;\n",
      "\t\tnlat:_FillValue = NaN ;\n",
      "\tdouble nlon(lon) ;\n",
      "\t\tnlon:_FillValue = NaN ;\n",
      "\n",
      "// global attributes:\n",
      "\t\t:created\\ on = \"2010-10-10\" ;\n",
      "\t\t:created\\ by = \"foo\" ;\n",
      "\t\t:experiment_name = \"bar\" ;\n",
      "}\n"
     ]
    }
   ],
   "source": [
    "!ncdump -h data/timeseries/pressure.nc"
   ]
  },
  {
   "cell_type": "code",
   "execution_count": 27,
   "metadata": {},
   "outputs": [
    {
     "data": {
      "text/plain": [
       "<xarray.Dataset>\n",
       "Dimensions:   (lat: 180, lon: 360, time: 24)\n",
       "Coordinates:\n",
       "  * lat       (lat) int64 -90 -88 -87 -86 -85 -84 -83 ... 83 84 85 86 87 88 90\n",
       "  * lon       (lon) int64 -180 -178 -177 -176 -175 -174 ... 175 176 177 178 180\n",
       "  * time      (time) datetime64[ns] 2000-01-31 2000-02-29 ... 2000-10-31\n",
       "Data variables:\n",
       "    prec      (time, lat, lon) float64 ...\n",
       "    meta_var  (lat, lon) int64 ...\n",
       "    nlat      (lat) float64 ...\n",
       "    nlon      (lon) float64 ...\n",
       "Attributes:\n",
       "    created on:       2010-10-10\n",
       "    created by:       foo\n",
       "    experiment_name:  bar"
      ]
     },
     "execution_count": 27,
     "metadata": {},
     "output_type": "execute_result"
    }
   ],
   "source": [
    "xr.open_dataset(\"data/timeseries/prec.nc\")"
   ]
  },
  {
   "cell_type": "code",
   "execution_count": 28,
   "metadata": {},
   "outputs": [],
   "source": [
    "ds = xr.open_mfdataset(\"data/timeseries/*.nc\")"
   ]
  },
  {
   "cell_type": "code",
   "execution_count": 29,
   "metadata": {},
   "outputs": [
    {
     "name": "stdout",
     "output_type": "stream",
     "text": [
      "dataset size in GB 0.04\n",
      "\n"
     ]
    }
   ],
   "source": [
    "print('dataset size in GB {:0.2f}\\n'.format(ds.nbytes / 1e9))"
   ]
  },
  {
   "cell_type": "code",
   "execution_count": 30,
   "metadata": {},
   "outputs": [
    {
     "name": "stdout",
     "output_type": "stream",
     "text": [
      "xarray.Dataset {\n",
      "dimensions:\n",
      "\tlat = 180 ;\n",
      "\tlon = 360 ;\n",
      "\ttime = 24 ;\n",
      "\n",
      "variables:\n",
      "\tint64 lat(lat) ;\n",
      "\tint64 lon(lon) ;\n",
      "\tdatetime64[ns] time(time) ;\n",
      "\tfloat64 prec(time, lat, lon) ;\n",
      "\tint64 meta_var(lat, lon) ;\n",
      "\tfloat64 nlat(lat) ;\n",
      "\tfloat64 nlon(lon) ;\n",
      "\tfloat64 pressure(time, lat, lon) ;\n",
      "\tfloat64 sst(time, lat, lon) ;\n",
      "\n",
      "// global attributes:\n",
      "\t:created on = 2010-10-10 ;\n",
      "\t:created by = foo ;\n",
      "\t:experiment_name = bar ;\n",
      "}"
     ]
    }
   ],
   "source": [
    "ds.info()"
   ]
  },
  {
   "cell_type": "code",
   "execution_count": 31,
   "metadata": {},
   "outputs": [
    {
     "name": "stdout",
     "output_type": "stream",
     "text": [
      " 38M\tdata/timeseries/\n"
     ]
    }
   ],
   "source": [
    "!du -s -h data/timeseries/"
   ]
  },
  {
   "cell_type": "code",
   "execution_count": 32,
   "metadata": {},
   "outputs": [
    {
     "data": {
      "application/json": {
       "Software versions": [
        {
         "module": "Python",
         "version": "3.6.6 64bit [GCC 4.2.1 Compatible Apple LLVM 6.1.0 (clang-602.0.53)]"
        },
        {
         "module": "IPython",
         "version": "7.0.1"
        },
        {
         "module": "OS",
         "version": "Darwin 17.7.0 x86_64 i386 64bit"
        },
        {
         "module": "dask",
         "version": "0.19.4"
        },
        {
         "module": "numpy",
         "version": "1.15.1"
        },
        {
         "module": "xarray",
         "version": "0.10.9"
        },
        {
         "module": "netcdf4",
         "version": "1.4.1"
        }
       ]
      },
      "text/html": [
       "<table><tr><th>Software</th><th>Version</th></tr><tr><td>Python</td><td>3.6.6 64bit [GCC 4.2.1 Compatible Apple LLVM 6.1.0 (clang-602.0.53)]</td></tr><tr><td>IPython</td><td>7.0.1</td></tr><tr><td>OS</td><td>Darwin 17.7.0 x86_64 i386 64bit</td></tr><tr><td>dask</td><td>0.19.4</td></tr><tr><td>numpy</td><td>1.15.1</td></tr><tr><td>xarray</td><td>0.10.9</td></tr><tr><td>netcdf4</td><td>1.4.1</td></tr><tr><td colspan='2'>Thu Oct 18 14:26:05 2018 MDT</td></tr></table>"
      ],
      "text/latex": [
       "\\begin{tabular}{|l|l|}\\hline\n",
       "{\\bf Software} & {\\bf Version} \\\\ \\hline\\hline\n",
       "Python & 3.6.6 64bit [GCC 4.2.1 Compatible Apple LLVM 6.1.0 (clang-602.0.53)] \\\\ \\hline\n",
       "IPython & 7.0.1 \\\\ \\hline\n",
       "OS & Darwin 17.7.0 x86\\_64 i386 64bit \\\\ \\hline\n",
       "dask & 0.19.4 \\\\ \\hline\n",
       "numpy & 1.15.1 \\\\ \\hline\n",
       "xarray & 0.10.9 \\\\ \\hline\n",
       "netcdf4 & 1.4.1 \\\\ \\hline\n",
       "\\hline \\multicolumn{2}{|l|}{Thu Oct 18 14:26:05 2018 MDT} \\\\ \\hline\n",
       "\\end{tabular}\n"
      ],
      "text/plain": [
       "Software versions\n",
       "Python 3.6.6 64bit [GCC 4.2.1 Compatible Apple LLVM 6.1.0 (clang-602.0.53)]\n",
       "IPython 7.0.1\n",
       "OS Darwin 17.7.0 x86_64 i386 64bit\n",
       "dask 0.19.4\n",
       "numpy 1.15.1\n",
       "xarray 0.10.9\n",
       "netcdf4 1.4.1\n",
       "Thu Oct 18 14:26:05 2018 MDT"
      ]
     },
     "execution_count": 32,
     "metadata": {},
     "output_type": "execute_result"
    }
   ],
   "source": [
    "%load_ext version_information\n",
    "%version_information dask, numpy, xarray, netcdf4"
   ]
  }
 ],
 "metadata": {
  "kernelspec": {
   "display_name": "Python [conda env:pangeo]",
   "language": "python",
   "name": "conda-env-pangeo-py"
  },
  "language_info": {
   "codemirror_mode": {
    "name": "ipython",
    "version": 3
   },
   "file_extension": ".py",
   "mimetype": "text/x-python",
   "name": "python",
   "nbconvert_exporter": "python",
   "pygments_lexer": "ipython3",
   "version": "3.6.6"
  }
 },
 "nbformat": 4,
 "nbformat_minor": 2
}
