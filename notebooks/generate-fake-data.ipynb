{
 "cells": [
  {
   "cell_type": "code",
   "execution_count": 1,
   "metadata": {},
   "outputs": [],
   "source": [
    "import xarray as xr \n",
    "import numpy as np \n",
    "import pandas as pd"
   ]
  },
  {
   "cell_type": "code",
   "execution_count": 2,
   "metadata": {},
   "outputs": [],
   "source": [
    "times = pd.DatetimeIndex(start='2000-01-01', end='2005-12-31', freq='1M')"
   ]
  },
  {
   "cell_type": "code",
   "execution_count": 3,
   "metadata": {},
   "outputs": [
    {
     "data": {
      "text/plain": [
       "DatetimeIndex(['2000-01-31', '2000-02-29', '2000-03-31', '2000-04-30',\n",
       "               '2000-05-31', '2000-06-30', '2000-07-31', '2000-08-31',\n",
       "               '2000-09-30', '2000-10-31', '2000-11-30', '2000-12-31',\n",
       "               '2001-01-31', '2001-02-28', '2001-03-31', '2001-04-30',\n",
       "               '2001-05-31', '2001-06-30', '2001-07-31', '2001-08-31',\n",
       "               '2001-09-30', '2001-10-31', '2001-11-30', '2001-12-31',\n",
       "               '2002-01-31', '2002-02-28', '2002-03-31', '2002-04-30',\n",
       "               '2002-05-31', '2002-06-30', '2002-07-31', '2002-08-31',\n",
       "               '2002-09-30', '2002-10-31', '2002-11-30', '2002-12-31',\n",
       "               '2003-01-31', '2003-02-28', '2003-03-31', '2003-04-30',\n",
       "               '2003-05-31', '2003-06-30', '2003-07-31', '2003-08-31',\n",
       "               '2003-09-30', '2003-10-31', '2003-11-30', '2003-12-31',\n",
       "               '2004-01-31', '2004-02-29', '2004-03-31', '2004-04-30',\n",
       "               '2004-05-31', '2004-06-30', '2004-07-31', '2004-08-31',\n",
       "               '2004-09-30', '2004-10-31', '2004-11-30', '2004-12-31',\n",
       "               '2005-01-31', '2005-02-28', '2005-03-31', '2005-04-30',\n",
       "               '2005-05-31', '2005-06-30', '2005-07-31', '2005-08-31',\n",
       "               '2005-09-30', '2005-10-31', '2005-11-30', '2005-12-31'],\n",
       "              dtype='datetime64[ns]', freq='M')"
      ]
     },
     "execution_count": 3,
     "metadata": {},
     "output_type": "execute_result"
    }
   ],
   "source": [
    "times"
   ]
  },
  {
   "cell_type": "code",
   "execution_count": 4,
   "metadata": {},
   "outputs": [
    {
     "data": {
      "text/plain": [
       "72"
      ]
     },
     "execution_count": 4,
     "metadata": {},
     "output_type": "execute_result"
    }
   ],
   "source": [
    "len(times)"
   ]
  },
  {
   "cell_type": "code",
   "execution_count": 5,
   "metadata": {},
   "outputs": [
    {
     "data": {
      "text/plain": [
       "<xarray.DataArray 'T' (time: 72, lat: 180, lon: 360)>\n",
       "array([[[-0.336891, -2.530147, ..., -0.08898 ,  2.33301 ],\n",
       "        [-2.013169, -0.314178, ...,  1.14589 , -0.54565 ],\n",
       "        ...,\n",
       "        [ 0.50125 , -0.838776, ...,  1.717061, -0.379004],\n",
       "        [ 0.840366,  0.201914, ..., -0.836495, -0.079808]],\n",
       "\n",
       "       [[-1.123021, -0.5934  , ...,  0.455241, -1.142908],\n",
       "        [-1.133499, -0.165356, ...,  0.178867,  1.570098],\n",
       "        ...,\n",
       "        [-0.580287, -0.217049, ..., -1.367889,  0.348764],\n",
       "        [-1.098016,  1.74528 , ...,  0.810879,  1.187659]],\n",
       "\n",
       "       ...,\n",
       "\n",
       "       [[ 0.153952, -0.566678, ..., -0.205883, -0.063712],\n",
       "        [ 0.249094,  0.493843, ...,  0.749748,  0.332812],\n",
       "        ...,\n",
       "        [ 0.105701,  0.142899, ...,  0.880594, -0.515978],\n",
       "        [-1.055244,  0.180521, ...,  0.04043 , -0.820333]],\n",
       "\n",
       "       [[-0.39891 ,  0.335855, ..., -1.215697, -1.016974],\n",
       "        [-0.772851,  0.233387, ..., -0.351151, -0.969042],\n",
       "        ...,\n",
       "        [ 1.239201,  2.056613, ..., -0.327199, -1.343541],\n",
       "        [-2.235883,  0.299435, ...,  0.065458, -0.484705]]])\n",
       "Coordinates:\n",
       "  * time     (time) datetime64[ns] 2000-01-31 2000-02-29 ... 2005-12-31\n",
       "  * lat      (lat) int64 -90 -89 -88 -87 -86 -85 -84 ... 83 84 85 86 87 88 89\n",
       "  * lon      (lon) int64 -180 -179 -178 -177 -176 -175 ... 175 176 177 178 179"
      ]
     },
     "execution_count": 5,
     "metadata": {},
     "output_type": "execute_result"
    }
   ],
   "source": [
    "temp = xr.DataArray(np.random.randn(72, 180, 360), coords={'time': times, 'lat': np.arange(180)-90, 'lon': np.arange(360)-180}, dims=('time', 'lat', 'lon'), name='T')\n",
    "temp"
   ]
  },
  {
   "cell_type": "code",
   "execution_count": 6,
   "metadata": {},
   "outputs": [],
   "source": [
    "sst = xr.DataArray(np.random.randn(72, 180, 360), coords={'time': times, 'lat': np.arange(180)-90, 'lon': np.arange(360)-180}, dims=('time', 'lat', 'lon'), name='SST')"
   ]
  },
  {
   "cell_type": "code",
   "execution_count": 7,
   "metadata": {},
   "outputs": [
    {
     "data": {
      "text/plain": [
       "<xarray.Dataset>\n",
       "Dimensions:  (lat: 180, lon: 360, time: 72)\n",
       "Coordinates:\n",
       "  * time     (time) datetime64[ns] 2000-01-31 2000-02-29 ... 2005-12-31\n",
       "  * lat      (lat) int64 -90 -89 -88 -87 -86 -85 -84 ... 83 84 85 86 87 88 89\n",
       "  * lon      (lon) int64 -180 -179 -178 -177 -176 -175 ... 175 176 177 178 179\n",
       "Data variables:\n",
       "    T        (time, lat, lon) float64 -0.3369 -2.53 -0.8213 ... 0.06546 -0.4847\n",
       "    SST      (time, lat, lon) float64 0.3463 -0.4228 0.4959 ... 1.073 -0.5717"
      ]
     },
     "execution_count": 7,
     "metadata": {},
     "output_type": "execute_result"
    }
   ],
   "source": [
    "xr.Dataset({'T': temp, 'SST': sst})"
   ]
  },
  {
   "cell_type": "code",
   "execution_count": 8,
   "metadata": {},
   "outputs": [],
   "source": [
    "!mkdir -p data"
   ]
  },
  {
   "cell_type": "code",
   "execution_count": 9,
   "metadata": {},
   "outputs": [],
   "source": [
    "def create_data_array(time, lat, lon, name):\n",
    "    data_array = xr.DataArray(np.random.randn(len([time]), len(lat), len(lon)), \n",
    "                      coords={'time': [time], 'lat': lat, 'lon': lon},\n",
    "                      dims=('time', 'lat', 'lon'),\n",
    "                      name=name)\n",
    "    return data_array \n",
    "\n",
    "def generate_fake_data(time, suffix):\n",
    "    lat = np.linspace(start=-90, stop=90, num=180, dtype='int')\n",
    "    lon = np.linspace(start=-180, stop=180, num=360, dtype='int')\n",
    "    sst = create_data_array(time, lat, lon, name='sst')\n",
    "    prec = create_data_array(time, lat, lon, name='prec')\n",
    "    pressure = create_data_array(time, lat, lon, name='pressure')\n",
    "    meta = xr.DataArray(np.random.randn(len(lat), len(lon)), \n",
    "                        coords={'lat': lat, 'lon': lon}, \n",
    "                        dims=('lat', 'lon'),\n",
    "                        name='meta_var')\n",
    "    dset = xr.Dataset({'sst': sst, 'pressure': pressure, 'prec': prec, 'meta_var': meta})\n",
    "    path = f'data/tslice{str(suffix)}.nc'\n",
    "    # print(dset)\n",
    "    dset.to_netcdf(path, engine='netcdf4', mode='w')"
   ]
  },
  {
   "cell_type": "code",
   "execution_count": 10,
   "metadata": {},
   "outputs": [
    {
     "data": {
      "text/plain": [
       "DatetimeIndex(['2000-01-31', '2000-02-29', '2000-03-31', '2000-04-30',\n",
       "               '2000-05-31', '2000-06-30', '2000-07-31', '2000-08-31',\n",
       "               '2000-09-30', '2000-10-31', '2000-11-30', '2000-12-31',\n",
       "               '2001-01-31', '2001-02-28', '2001-03-31', '2001-04-30',\n",
       "               '2001-05-31', '2001-06-30', '2001-07-31', '2001-08-31',\n",
       "               '2001-09-30', '2001-10-31', '2001-11-30', '2001-12-31'],\n",
       "              dtype='datetime64[ns]', freq='M')"
      ]
     },
     "execution_count": 10,
     "metadata": {},
     "output_type": "execute_result"
    }
   ],
   "source": [
    "times = pd.DatetimeIndex(start='2000-01-01', freq='1M', periods=24)\n",
    "times"
   ]
  },
  {
   "cell_type": "code",
   "execution_count": 11,
   "metadata": {},
   "outputs": [],
   "source": [
    "for index, time in enumerate(times):\n",
    "    generate_fake_data(time, index)"
   ]
  },
  {
   "cell_type": "code",
   "execution_count": 12,
   "metadata": {},
   "outputs": [
    {
     "name": "stdout",
     "output_type": "stream",
     "text": [
      "netcdf tslice0 {\n",
      "dimensions:\n",
      "\ttime = 1 ;\n",
      "\tlat = 180 ;\n",
      "\tlon = 360 ;\n",
      "variables:\n",
      "\tint64 time(time) ;\n",
      "\t\ttime:units = \"days since 2000-01-31 00:00:00\" ;\n",
      "\t\ttime:calendar = \"proleptic_gregorian\" ;\n",
      "\tint64 lat(lat) ;\n",
      "\tint64 lon(lon) ;\n",
      "\tdouble sst(time, lat, lon) ;\n",
      "\t\tsst:_FillValue = NaN ;\n",
      "\tdouble pressure(time, lat, lon) ;\n",
      "\t\tpressure:_FillValue = NaN ;\n",
      "\tdouble prec(time, lat, lon) ;\n",
      "\t\tprec:_FillValue = NaN ;\n",
      "\tdouble meta_var(lat, lon) ;\n",
      "\t\tmeta_var:_FillValue = NaN ;\n",
      "}\n"
     ]
    }
   ],
   "source": [
    "!ncdump -h data/tslice0.nc"
   ]
  },
  {
   "cell_type": "code",
   "execution_count": 13,
   "metadata": {},
   "outputs": [
    {
     "name": "stdout",
     "output_type": "stream",
     "text": [
      " 48M\tdata/\n"
     ]
    }
   ],
   "source": [
    "!du -s -h data/ "
   ]
  },
  {
   "cell_type": "code",
   "execution_count": 14,
   "metadata": {},
   "outputs": [
    {
     "data": {
      "text/plain": [
       "<xarray.Dataset>\n",
       "Dimensions:   (lat: 180, lon: 360, time: 24)\n",
       "Coordinates:\n",
       "  * lat       (lat) int64 -90 -88 -87 -86 -85 -84 -83 ... 83 84 85 86 87 88 90\n",
       "  * lon       (lon) int64 -180 -178 -177 -176 -175 -174 ... 175 176 177 178 180\n",
       "  * time      (time) datetime64[ns] 2000-01-31 2000-02-29 ... 2000-10-31\n",
       "Data variables:\n",
       "    sst       (time, lat, lon) float64 dask.array<shape=(24, 180, 360), chunksize=(1, 180, 360)>\n",
       "    pressure  (time, lat, lon) float64 dask.array<shape=(24, 180, 360), chunksize=(1, 180, 360)>\n",
       "    prec      (time, lat, lon) float64 dask.array<shape=(24, 180, 360), chunksize=(1, 180, 360)>\n",
       "    meta_var  (time, lat, lon) float64 dask.array<shape=(24, 180, 360), chunksize=(1, 180, 360)>"
      ]
     },
     "execution_count": 14,
     "metadata": {},
     "output_type": "execute_result"
    }
   ],
   "source": [
    "xr.open_mfdataset('data/*.nc')"
   ]
  },
  {
   "cell_type": "code",
   "execution_count": 15,
   "metadata": {},
   "outputs": [
    {
     "data": {
      "application/json": {
       "Software versions": [
        {
         "module": "Python",
         "version": "3.6.6 64bit [GCC 4.2.1 Compatible Apple LLVM 6.1.0 (clang-602.0.53)]"
        },
        {
         "module": "IPython",
         "version": "7.0.1"
        },
        {
         "module": "OS",
         "version": "Darwin 17.7.0 x86_64 i386 64bit"
        },
        {
         "module": "dask",
         "version": "0.19.4"
        },
        {
         "module": "numpy",
         "version": "1.15.1"
        },
        {
         "module": "xarray",
         "version": "0.10.9"
        },
        {
         "module": "netcdf4",
         "version": "1.4.1"
        }
       ]
      },
      "text/html": [
       "<table><tr><th>Software</th><th>Version</th></tr><tr><td>Python</td><td>3.6.6 64bit [GCC 4.2.1 Compatible Apple LLVM 6.1.0 (clang-602.0.53)]</td></tr><tr><td>IPython</td><td>7.0.1</td></tr><tr><td>OS</td><td>Darwin 17.7.0 x86_64 i386 64bit</td></tr><tr><td>dask</td><td>0.19.4</td></tr><tr><td>numpy</td><td>1.15.1</td></tr><tr><td>xarray</td><td>0.10.9</td></tr><tr><td>netcdf4</td><td>1.4.1</td></tr><tr><td colspan='2'>Thu Oct 18 11:43:02 2018 MDT</td></tr></table>"
      ],
      "text/latex": [
       "\\begin{tabular}{|l|l|}\\hline\n",
       "{\\bf Software} & {\\bf Version} \\\\ \\hline\\hline\n",
       "Python & 3.6.6 64bit [GCC 4.2.1 Compatible Apple LLVM 6.1.0 (clang-602.0.53)] \\\\ \\hline\n",
       "IPython & 7.0.1 \\\\ \\hline\n",
       "OS & Darwin 17.7.0 x86\\_64 i386 64bit \\\\ \\hline\n",
       "dask & 0.19.4 \\\\ \\hline\n",
       "numpy & 1.15.1 \\\\ \\hline\n",
       "xarray & 0.10.9 \\\\ \\hline\n",
       "netcdf4 & 1.4.1 \\\\ \\hline\n",
       "\\hline \\multicolumn{2}{|l|}{Thu Oct 18 11:43:02 2018 MDT} \\\\ \\hline\n",
       "\\end{tabular}\n"
      ],
      "text/plain": [
       "Software versions\n",
       "Python 3.6.6 64bit [GCC 4.2.1 Compatible Apple LLVM 6.1.0 (clang-602.0.53)]\n",
       "IPython 7.0.1\n",
       "OS Darwin 17.7.0 x86_64 i386 64bit\n",
       "dask 0.19.4\n",
       "numpy 1.15.1\n",
       "xarray 0.10.9\n",
       "netcdf4 1.4.1\n",
       "Thu Oct 18 11:43:02 2018 MDT"
      ]
     },
     "execution_count": 15,
     "metadata": {},
     "output_type": "execute_result"
    }
   ],
   "source": [
    "%load_ext version_information\n",
    "%version_information dask, numpy, xarray, netcdf4"
   ]
  }
 ],
 "metadata": {
  "kernelspec": {
   "display_name": "Python [conda env:pangeo]",
   "language": "python",
   "name": "conda-env-pangeo-py"
  },
  "language_info": {
   "codemirror_mode": {
    "name": "ipython",
    "version": 3
   },
   "file_extension": ".py",
   "mimetype": "text/x-python",
   "name": "python",
   "nbconvert_exporter": "python",
   "pygments_lexer": "ipython3",
   "version": "3.6.6"
  }
 },
 "nbformat": 4,
 "nbformat_minor": 2
}
