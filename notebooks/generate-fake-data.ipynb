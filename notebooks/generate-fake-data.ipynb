{
 "cells": [
  {
   "cell_type": "code",
   "execution_count": 1,
   "metadata": {},
   "outputs": [],
   "source": [
    "import xarray as xr \n",
    "import numpy as np \n",
    "import pandas as pd"
   ]
  },
  {
   "cell_type": "code",
   "execution_count": 2,
   "metadata": {},
   "outputs": [],
   "source": [
    "times = pd.DatetimeIndex(start='2000-01-01', end='2005-12-31', freq='1M')"
   ]
  },
  {
   "cell_type": "code",
   "execution_count": 3,
   "metadata": {},
   "outputs": [
    {
     "data": {
      "text/plain": [
       "DatetimeIndex(['2000-01-31', '2000-02-29', '2000-03-31', '2000-04-30',\n",
       "               '2000-05-31', '2000-06-30', '2000-07-31', '2000-08-31',\n",
       "               '2000-09-30', '2000-10-31', '2000-11-30', '2000-12-31',\n",
       "               '2001-01-31', '2001-02-28', '2001-03-31', '2001-04-30',\n",
       "               '2001-05-31', '2001-06-30', '2001-07-31', '2001-08-31',\n",
       "               '2001-09-30', '2001-10-31', '2001-11-30', '2001-12-31',\n",
       "               '2002-01-31', '2002-02-28', '2002-03-31', '2002-04-30',\n",
       "               '2002-05-31', '2002-06-30', '2002-07-31', '2002-08-31',\n",
       "               '2002-09-30', '2002-10-31', '2002-11-30', '2002-12-31',\n",
       "               '2003-01-31', '2003-02-28', '2003-03-31', '2003-04-30',\n",
       "               '2003-05-31', '2003-06-30', '2003-07-31', '2003-08-31',\n",
       "               '2003-09-30', '2003-10-31', '2003-11-30', '2003-12-31',\n",
       "               '2004-01-31', '2004-02-29', '2004-03-31', '2004-04-30',\n",
       "               '2004-05-31', '2004-06-30', '2004-07-31', '2004-08-31',\n",
       "               '2004-09-30', '2004-10-31', '2004-11-30', '2004-12-31',\n",
       "               '2005-01-31', '2005-02-28', '2005-03-31', '2005-04-30',\n",
       "               '2005-05-31', '2005-06-30', '2005-07-31', '2005-08-31',\n",
       "               '2005-09-30', '2005-10-31', '2005-11-30', '2005-12-31'],\n",
       "              dtype='datetime64[ns]', freq='M')"
      ]
     },
     "execution_count": 3,
     "metadata": {},
     "output_type": "execute_result"
    }
   ],
   "source": [
    "times"
   ]
  },
  {
   "cell_type": "code",
   "execution_count": 4,
   "metadata": {},
   "outputs": [
    {
     "data": {
      "text/plain": [
       "72"
      ]
     },
     "execution_count": 4,
     "metadata": {},
     "output_type": "execute_result"
    }
   ],
   "source": [
    "len(times)"
   ]
  },
  {
   "cell_type": "code",
   "execution_count": 5,
   "metadata": {},
   "outputs": [
    {
     "data": {
      "text/plain": [
       "<xarray.DataArray 'T' (time: 72, lat: 180, lon: 360)>\n",
       "array([[[-2.953095e-01,  1.824486e-01, ...,  1.197522e+00, -4.132103e-01],\n",
       "        [-1.847893e-01,  2.014141e-01, ..., -1.154606e+00,  1.050365e+00],\n",
       "        ...,\n",
       "        [-3.436316e-01, -2.610466e-01, ...,  1.257608e+00, -2.882389e-01],\n",
       "        [ 5.879748e-01, -2.339612e-01, ...,  8.322319e-01, -2.347080e-01]],\n",
       "\n",
       "       [[-9.258011e-01, -4.478333e-01, ...,  1.129058e+00,  2.610382e+00],\n",
       "        [ 9.409407e-01, -8.187242e-01, ...,  1.160699e+00,  4.471276e-01],\n",
       "        ...,\n",
       "        [-5.657505e-01, -5.591273e-01, ...,  6.781451e-01,  1.296880e+00],\n",
       "        [-9.001925e-01, -6.285378e-01, ..., -9.673269e-01,  5.514825e-01]],\n",
       "\n",
       "       ...,\n",
       "\n",
       "       [[-4.684236e-03, -3.874309e-01, ...,  4.945920e-01, -7.823971e-01],\n",
       "        [-4.470271e-02, -9.798423e-01, ...,  3.193757e-02,  1.199275e+00],\n",
       "        ...,\n",
       "        [ 2.395188e-01,  2.550100e-01, ..., -8.104164e-01,  1.095159e-03],\n",
       "        [ 2.058001e+00,  4.969274e-01, ..., -4.276100e-01,  1.726148e-01]],\n",
       "\n",
       "       [[-1.419285e-01,  1.496163e+00, ..., -7.316239e-01,  1.536841e+00],\n",
       "        [-8.748682e-01, -2.112012e-01, ...,  1.899471e-01,  7.065639e-01],\n",
       "        ...,\n",
       "        [-1.988657e+00,  1.316902e+00, ...,  6.985967e-01, -1.944493e+00],\n",
       "        [-4.478901e-01, -1.176487e+00, ..., -3.145635e+00, -1.579857e-01]]])\n",
       "Coordinates:\n",
       "  * time     (time) datetime64[ns] 2000-01-31 2000-02-29 ... 2005-12-31\n",
       "  * lat      (lat) int64 -90 -89 -88 -87 -86 -85 -84 ... 83 84 85 86 87 88 89\n",
       "  * lon      (lon) int64 -180 -179 -178 -177 -176 -175 ... 175 176 177 178 179"
      ]
     },
     "execution_count": 5,
     "metadata": {},
     "output_type": "execute_result"
    }
   ],
   "source": [
    "temp = xr.DataArray(np.random.randn(72, 180, 360), coords={'time': times, 'lat': np.arange(180)-90, 'lon': np.arange(360)-180}, dims=('time', 'lat', 'lon'), name='T')\n",
    "temp"
   ]
  },
  {
   "cell_type": "code",
   "execution_count": 6,
   "metadata": {},
   "outputs": [],
   "source": [
    "sst = xr.DataArray(np.random.randn(72, 180, 360), coords={'time': times, 'lat': np.arange(180)-90, 'lon': np.arange(360)-180}, dims=('time', 'lat', 'lon'), name='SST')"
   ]
  },
  {
   "cell_type": "code",
   "execution_count": 7,
   "metadata": {},
   "outputs": [
    {
     "data": {
      "text/plain": [
       "<xarray.Dataset>\n",
       "Dimensions:  (lat: 180, lon: 360, time: 72)\n",
       "Coordinates:\n",
       "  * time     (time) datetime64[ns] 2000-01-31 2000-02-29 ... 2005-12-31\n",
       "  * lat      (lat) int64 -90 -89 -88 -87 -86 -85 -84 ... 83 84 85 86 87 88 89\n",
       "  * lon      (lon) int64 -180 -179 -178 -177 -176 -175 ... 175 176 177 178 179\n",
       "Data variables:\n",
       "    T        (time, lat, lon) float64 -0.2953 0.1824 -0.3354 ... -3.146 -0.158\n",
       "    SST      (time, lat, lon) float64 -0.4862 1.03 -0.7288 ... -1.446 -0.02371"
      ]
     },
     "execution_count": 7,
     "metadata": {},
     "output_type": "execute_result"
    }
   ],
   "source": [
    "xr.Dataset({'T': temp, 'SST': sst})"
   ]
  },
  {
   "cell_type": "code",
   "execution_count": 8,
   "metadata": {},
   "outputs": [],
   "source": [
    "lat = np.arange(180)\n",
    "lon = np.arange(360)"
   ]
  },
  {
   "cell_type": "code",
   "execution_count": 9,
   "metadata": {},
   "outputs": [
    {
     "data": {
      "text/plain": [
       "((180,), (360,))"
      ]
     },
     "execution_count": 9,
     "metadata": {},
     "output_type": "execute_result"
    }
   ],
   "source": [
    "lat.shape, lon.shape"
   ]
  },
  {
   "cell_type": "code",
   "execution_count": 10,
   "metadata": {},
   "outputs": [
    {
     "data": {
      "text/plain": [
       "(2,)"
      ]
     },
     "execution_count": 10,
     "metadata": {},
     "output_type": "execute_result"
    }
   ],
   "source": [
    "np.array([lat, lon]).shape"
   ]
  },
  {
   "cell_type": "code",
   "execution_count": 11,
   "metadata": {},
   "outputs": [
    {
     "data": {
      "text/plain": [
       "(2,)"
      ]
     },
     "execution_count": 11,
     "metadata": {},
     "output_type": "execute_result"
    }
   ],
   "source": [
    "np.array([lat.ravel(), lon.ravel()]).shape"
   ]
  },
  {
   "cell_type": "code",
   "execution_count": 12,
   "metadata": {},
   "outputs": [],
   "source": [
    "def create_data_array(time, lat, lon, name):\n",
    "    data_array = xr.DataArray(np.random.randn(len([time]), len(lat), len(lon)), \n",
    "                      coords={'time': [time], 'lat': lat, 'lon': lon},\n",
    "                      dims=('time', 'lat', 'lon'),\n",
    "                      name=name)\n",
    "    return data_array \n",
    "\n",
    "def generate_fake_data(time, suffix):\n",
    "    lat = np.linspace(start=-90, stop=90, num=180, dtype='int')\n",
    "    lon = np.linspace(start=-180, stop=180, num=360, dtype='int')\n",
    "    sst = create_data_array(time, lat, lon, name='sst')\n",
    "    prec = create_data_array(time, lat, lon, name='prec')\n",
    "    pressure = create_data_array(time, lat, lon, name='pressure')\n",
    "    meta = xr.DataArray(np.random.randn(len(lat), len(lon)), \n",
    "                        coords={'lat': lat, 'lon': lon}, \n",
    "                        dims=('lat', 'lon'),\n",
    "                        name='meta_var')\n",
    "    dset = xr.Dataset({'sst': sst, 'pressure': pressure, 'prec': prec, 'meta_var': meta})\n",
    "    path = f'data/tslice{str(suffix)}.nc'\n",
    "    # print(dset)\n",
    "    dset.to_netcdf(path, engine='netcdf4', mode='w')"
   ]
  },
  {
   "cell_type": "code",
   "execution_count": 13,
   "metadata": {},
   "outputs": [
    {
     "data": {
      "text/plain": [
       "DatetimeIndex(['2000-01-31', '2000-02-29', '2000-03-31', '2000-04-30',\n",
       "               '2000-05-31', '2000-06-30', '2000-07-31', '2000-08-31',\n",
       "               '2000-09-30', '2000-10-31', '2000-11-30', '2000-12-31',\n",
       "               '2001-01-31', '2001-02-28', '2001-03-31', '2001-04-30',\n",
       "               '2001-05-31', '2001-06-30', '2001-07-31', '2001-08-31',\n",
       "               '2001-09-30', '2001-10-31', '2001-11-30', '2001-12-31'],\n",
       "              dtype='datetime64[ns]', freq='M')"
      ]
     },
     "execution_count": 13,
     "metadata": {},
     "output_type": "execute_result"
    }
   ],
   "source": [
    "times = pd.DatetimeIndex(start='2000-01-01', freq='1M', periods=24)\n",
    "times"
   ]
  },
  {
   "cell_type": "code",
   "execution_count": 14,
   "metadata": {},
   "outputs": [],
   "source": [
    "for index, time in enumerate(times):\n",
    "    generate_fake_data(time, index)"
   ]
  },
  {
   "cell_type": "code",
   "execution_count": 15,
   "metadata": {},
   "outputs": [
    {
     "name": "stdout",
     "output_type": "stream",
     "text": [
      "netcdf tslice0 {\n",
      "dimensions:\n",
      "\ttime = 1 ;\n",
      "\tlat = 180 ;\n",
      "\tlon = 360 ;\n",
      "variables:\n",
      "\tint64 time(time) ;\n",
      "\t\ttime:units = \"days since 2000-01-31 00:00:00\" ;\n",
      "\t\ttime:calendar = \"proleptic_gregorian\" ;\n",
      "\tint64 lat(lat) ;\n",
      "\tint64 lon(lon) ;\n",
      "\tdouble sst(time, lat, lon) ;\n",
      "\t\tsst:_FillValue = NaN ;\n",
      "\tdouble pressure(time, lat, lon) ;\n",
      "\t\tpressure:_FillValue = NaN ;\n",
      "\tdouble prec(time, lat, lon) ;\n",
      "\t\tprec:_FillValue = NaN ;\n",
      "\tdouble meta_var(lat, lon) ;\n",
      "\t\tmeta_var:_FillValue = NaN ;\n",
      "}\n"
     ]
    }
   ],
   "source": [
    "!ncdump -h data/tslice0.nc"
   ]
  },
  {
   "cell_type": "code",
   "execution_count": 20,
   "metadata": {},
   "outputs": [
    {
     "name": "stdout",
     "output_type": "stream",
     "text": [
      " 48M\tdata/\n"
     ]
    }
   ],
   "source": [
    "!du -s -h data/ "
   ]
  },
  {
   "cell_type": "code",
   "execution_count": 16,
   "metadata": {},
   "outputs": [
    {
     "data": {
      "text/plain": [
       "<xarray.Dataset>\n",
       "Dimensions:   (lat: 180, lon: 360, time: 24)\n",
       "Coordinates:\n",
       "  * lat       (lat) int64 -90 -88 -87 -86 -85 -84 -83 ... 83 84 85 86 87 88 90\n",
       "  * lon       (lon) int64 -180 -178 -177 -176 -175 -174 ... 175 176 177 178 180\n",
       "  * time      (time) datetime64[ns] 2000-01-31 2000-02-29 ... 2000-10-31\n",
       "Data variables:\n",
       "    sst       (time, lat, lon) float64 dask.array<shape=(24, 180, 360), chunksize=(1, 180, 360)>\n",
       "    pressure  (time, lat, lon) float64 dask.array<shape=(24, 180, 360), chunksize=(1, 180, 360)>\n",
       "    prec      (time, lat, lon) float64 dask.array<shape=(24, 180, 360), chunksize=(1, 180, 360)>\n",
       "    meta_var  (time, lat, lon) float64 dask.array<shape=(24, 180, 360), chunksize=(1, 180, 360)>"
      ]
     },
     "execution_count": 16,
     "metadata": {},
     "output_type": "execute_result"
    }
   ],
   "source": [
    "xr.open_mfdataset('data/*.nc')"
   ]
  },
  {
   "cell_type": "code",
   "execution_count": 17,
   "metadata": {},
   "outputs": [
    {
     "data": {
      "application/json": {
       "Software versions": [
        {
         "module": "Python",
         "version": "3.6.6 64bit [GCC 4.2.1 Compatible Apple LLVM 6.1.0 (clang-602.0.53)]"
        },
        {
         "module": "IPython",
         "version": "7.0.1"
        },
        {
         "module": "OS",
         "version": "Darwin 17.7.0 x86_64 i386 64bit"
        },
        {
         "module": "dask",
         "version": "0.19.4"
        },
        {
         "module": "numpy",
         "version": "1.15.1"
        },
        {
         "module": "xarray",
         "version": "0.10.9"
        },
        {
         "module": "netcdf4",
         "version": "1.4.1"
        }
       ]
      },
      "text/html": [
       "<table><tr><th>Software</th><th>Version</th></tr><tr><td>Python</td><td>3.6.6 64bit [GCC 4.2.1 Compatible Apple LLVM 6.1.0 (clang-602.0.53)]</td></tr><tr><td>IPython</td><td>7.0.1</td></tr><tr><td>OS</td><td>Darwin 17.7.0 x86_64 i386 64bit</td></tr><tr><td>dask</td><td>0.19.4</td></tr><tr><td>numpy</td><td>1.15.1</td></tr><tr><td>xarray</td><td>0.10.9</td></tr><tr><td>netcdf4</td><td>1.4.1</td></tr><tr><td colspan='2'>Thu Oct 18 11:07:21 2018 MDT</td></tr></table>"
      ],
      "text/latex": [
       "\\begin{tabular}{|l|l|}\\hline\n",
       "{\\bf Software} & {\\bf Version} \\\\ \\hline\\hline\n",
       "Python & 3.6.6 64bit [GCC 4.2.1 Compatible Apple LLVM 6.1.0 (clang-602.0.53)] \\\\ \\hline\n",
       "IPython & 7.0.1 \\\\ \\hline\n",
       "OS & Darwin 17.7.0 x86\\_64 i386 64bit \\\\ \\hline\n",
       "dask & 0.19.4 \\\\ \\hline\n",
       "numpy & 1.15.1 \\\\ \\hline\n",
       "xarray & 0.10.9 \\\\ \\hline\n",
       "netcdf4 & 1.4.1 \\\\ \\hline\n",
       "\\hline \\multicolumn{2}{|l|}{Thu Oct 18 11:07:21 2018 MDT} \\\\ \\hline\n",
       "\\end{tabular}\n"
      ],
      "text/plain": [
       "Software versions\n",
       "Python 3.6.6 64bit [GCC 4.2.1 Compatible Apple LLVM 6.1.0 (clang-602.0.53)]\n",
       "IPython 7.0.1\n",
       "OS Darwin 17.7.0 x86_64 i386 64bit\n",
       "dask 0.19.4\n",
       "numpy 1.15.1\n",
       "xarray 0.10.9\n",
       "netcdf4 1.4.1\n",
       "Thu Oct 18 11:07:21 2018 MDT"
      ]
     },
     "execution_count": 17,
     "metadata": {},
     "output_type": "execute_result"
    }
   ],
   "source": [
    "%load_ext version_information\n",
    "%version_information dask, numpy, xarray, netcdf4"
   ]
  }
 ],
 "metadata": {
  "kernelspec": {
   "display_name": "Python [conda env:pangeo]",
   "language": "python",
   "name": "conda-env-pangeo-py"
  },
  "language_info": {
   "codemirror_mode": {
    "name": "ipython",
    "version": 3
   },
   "file_extension": ".py",
   "mimetype": "text/x-python",
   "name": "python",
   "nbconvert_exporter": "python",
   "pygments_lexer": "ipython3",
   "version": "3.6.6"
  }
 },
 "nbformat": 4,
 "nbformat_minor": 2
}
