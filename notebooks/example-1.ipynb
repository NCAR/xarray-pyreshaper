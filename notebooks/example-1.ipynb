{
 "cells": [
  {
   "cell_type": "code",
   "execution_count": 1,
   "metadata": {},
   "outputs": [
    {
     "name": "stderr",
     "output_type": "stream",
     "text": [
      "/Users/abanihi/opt/miniconda3/envs/pangeo/lib/python3.6/importlib/_bootstrap.py:219: RuntimeWarning: numpy.dtype size changed, may indicate binary incompatibility. Expected 96, got 88\n",
      "  return f(*args, **kwds)\n",
      "/Users/abanihi/opt/miniconda3/envs/pangeo/lib/python3.6/importlib/_bootstrap.py:219: RuntimeWarning: numpy.dtype size changed, may indicate binary incompatibility. Expected 96, got 88\n",
      "  return f(*args, **kwds)\n"
     ]
    }
   ],
   "source": [
    "import xarray as xr\n",
    "from dask.distributed import Client"
   ]
  },
  {
   "cell_type": "code",
   "execution_count": 2,
   "metadata": {},
   "outputs": [
    {
     "data": {
      "text/html": [
       "<table style=\"border: 2px solid white;\">\n",
       "<tr>\n",
       "<td style=\"vertical-align: top; border: 0px solid white\">\n",
       "<h3>Client</h3>\n",
       "<ul>\n",
       "  <li><b>Scheduler: </b>inproc://128.117.11.17/24572/1\n",
       "  <li><b>Dashboard: </b><a href='http://localhost:8787/status' target='_blank'>http://localhost:8787/status</a>\n",
       "</ul>\n",
       "</td>\n",
       "<td style=\"vertical-align: top; border: 0px solid white\">\n",
       "<h3>Cluster</h3>\n",
       "<ul>\n",
       "  <li><b>Workers: </b>1</li>\n",
       "  <li><b>Cores: </b>8</li>\n",
       "  <li><b>Memory: </b>17.18 GB</li>\n",
       "</ul>\n",
       "</td>\n",
       "</tr>\n",
       "</table>"
      ],
      "text/plain": [
       "<Client: scheduler='inproc://128.117.11.17/24572/1' processes=1 cores=8>"
      ]
     },
     "execution_count": 2,
     "metadata": {},
     "output_type": "execute_result"
    }
   ],
   "source": [
    "client = Client(processes=False)\n",
    "client"
   ]
  },
  {
   "cell_type": "code",
   "execution_count": 16,
   "metadata": {},
   "outputs": [
    {
     "name": "stdout",
     "output_type": "stream",
     "text": [
      "netcdf tslice0 {\n",
      "dimensions:\n",
      "\ttime = 1 ;\n",
      "\tlat = 180 ;\n",
      "\tlon = 360 ;\n",
      "variables:\n",
      "\tint64 time(time) ;\n",
      "\t\ttime:units = \"days since 2000-01-31 00:00:00\" ;\n",
      "\t\ttime:calendar = \"proleptic_gregorian\" ;\n",
      "\tint64 lat(lat) ;\n",
      "\tint64 lon(lon) ;\n",
      "\tdouble sst(time, lat, lon) ;\n",
      "\t\tsst:_FillValue = NaN ;\n",
      "\tdouble pressure(time, lat, lon) ;\n",
      "\t\tpressure:_FillValue = NaN ;\n",
      "\tdouble prec(time, lat, lon) ;\n",
      "\t\tprec:_FillValue = NaN ;\n",
      "\tdouble meta_var(lat, lon) ;\n",
      "\t\tmeta_var:_FillValue = NaN ;\n",
      "}\n"
     ]
    }
   ],
   "source": [
    "!ncdump -h data/tslice0.nc"
   ]
  },
  {
   "cell_type": "code",
   "execution_count": 15,
   "metadata": {},
   "outputs": [
    {
     "data": {
      "text/plain": [
       "<xarray.Dataset>\n",
       "Dimensions:   (lat: 180, lon: 360, time: 24)\n",
       "Coordinates:\n",
       "  * lat       (lat) int64 -90 -88 -87 -86 -85 -84 -83 ... 83 84 85 86 87 88 90\n",
       "  * lon       (lon) int64 -180 -178 -177 -176 -175 -174 ... 175 176 177 178 180\n",
       "  * time      (time) datetime64[ns] 2000-01-31 2000-02-29 ... 2000-10-31\n",
       "Data variables:\n",
       "    sst       (time, lat, lon) float64 dask.array<shape=(24, 180, 360), chunksize=(1, 180, 360)>\n",
       "    pressure  (time, lat, lon) float64 dask.array<shape=(24, 180, 360), chunksize=(1, 180, 360)>\n",
       "    prec      (time, lat, lon) float64 dask.array<shape=(24, 180, 360), chunksize=(1, 180, 360)>\n",
       "    meta_var  (time, lat, lon) float64 dask.array<shape=(24, 180, 360), chunksize=(1, 180, 360)>"
      ]
     },
     "execution_count": 15,
     "metadata": {},
     "output_type": "execute_result"
    }
   ],
   "source": [
    "dset = xr.open_mfdataset('data/*.nc')\n",
    "dset"
   ]
  },
  {
   "cell_type": "code",
   "execution_count": null,
   "metadata": {},
   "outputs": [],
   "source": []
  }
 ],
 "metadata": {
  "kernelspec": {
   "display_name": "Python [conda env:pangeo]",
   "language": "python",
   "name": "conda-env-pangeo-py"
  },
  "language_info": {
   "codemirror_mode": {
    "name": "ipython",
    "version": 3
   },
   "file_extension": ".py",
   "mimetype": "text/x-python",
   "name": "python",
   "nbconvert_exporter": "python",
   "pygments_lexer": "ipython3",
   "version": "3.6.6"
  }
 },
 "nbformat": 4,
 "nbformat_minor": 2
}
